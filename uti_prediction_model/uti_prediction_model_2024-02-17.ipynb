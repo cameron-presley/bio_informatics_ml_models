{
 "cells": [
  {
   "cell_type": "markdown",
   "source": [
    "#### UTI Diagnosis Prediction Model"
   ],
   "metadata": {
    "collapsed": false
   },
   "id": "80a96487362648ea"
  },
  {
   "cell_type": "code",
   "outputs": [],
   "source": [
    "import pandas as pd"
   ],
   "metadata": {
    "collapsed": true,
    "ExecuteTime": {
     "end_time": "2024-02-18T02:25:55.154246Z",
     "start_time": "2024-02-18T02:25:55.151022Z"
    }
   },
   "id": "initial_id",
   "execution_count": 3
  },
  {
   "cell_type": "code",
   "outputs": [],
   "source": [
    "data = pd.read_csv('/Users/cameronpresley/DS Portfolio/UTI Prediction/urinalysis_tests.csv')"
   ],
   "metadata": {
    "collapsed": false,
    "ExecuteTime": {
     "end_time": "2024-02-18T02:26:35.028234Z",
     "start_time": "2024-02-18T02:26:35.021916Z"
    }
   },
   "id": "670b8292fbdca204",
   "execution_count": 4
  },
  {
   "cell_type": "code",
   "outputs": [],
   "source": [
    "df = data.copy()"
   ],
   "metadata": {
    "collapsed": false,
    "ExecuteTime": {
     "end_time": "2024-02-18T02:29:25.200403Z",
     "start_time": "2024-02-18T02:29:25.195407Z"
    }
   },
   "id": "758f75a61846f6fd",
   "execution_count": 11
  },
  {
   "cell_type": "code",
   "outputs": [
    {
     "name": "stdout",
     "output_type": "stream",
     "text": [
      "<class 'pandas.core.frame.DataFrame'>\n",
      "RangeIndex: 1436 entries, 0 to 1435\n",
      "Data columns (total 16 columns):\n",
      " #   Column            Non-Null Count  Dtype  \n",
      "---  ------            --------------  -----  \n",
      " 0   Unnamed: 0        1436 non-null   int64  \n",
      " 1   Age               1436 non-null   float64\n",
      " 2   Gender            1436 non-null   object \n",
      " 3   Color             1435 non-null   object \n",
      " 4   Transparency      1436 non-null   object \n",
      " 5   Glucose           1436 non-null   object \n",
      " 6   Protein           1436 non-null   object \n",
      " 7   pH                1436 non-null   float64\n",
      " 8   Specific Gravity  1436 non-null   float64\n",
      " 9   WBC               1436 non-null   object \n",
      " 10  RBC               1436 non-null   object \n",
      " 11  Epithelial Cells  1436 non-null   object \n",
      " 12  Mucous Threads    1436 non-null   object \n",
      " 13  Amorphous Urates  1436 non-null   object \n",
      " 14  Bacteria          1436 non-null   object \n",
      " 15  Diagnosis         1436 non-null   object \n",
      "dtypes: float64(3), int64(1), object(12)\n",
      "memory usage: 179.6+ KB\n"
     ]
    }
   ],
   "source": [
    "df.info()"
   ],
   "metadata": {
    "collapsed": false,
    "ExecuteTime": {
     "end_time": "2024-02-18T02:29:31.482661Z",
     "start_time": "2024-02-18T02:29:31.478824Z"
    }
   },
   "id": "4376fa1fec1e6bd6",
   "execution_count": 12
  },
  {
   "cell_type": "code",
   "outputs": [],
   "source": [],
   "metadata": {
    "collapsed": false
   },
   "id": "e166c7262d2afb36"
  }
 ],
 "metadata": {
  "kernelspec": {
   "display_name": "Python 3",
   "language": "python",
   "name": "python3"
  },
  "language_info": {
   "codemirror_mode": {
    "name": "ipython",
    "version": 2
   },
   "file_extension": ".py",
   "mimetype": "text/x-python",
   "name": "python",
   "nbconvert_exporter": "python",
   "pygments_lexer": "ipython2",
   "version": "2.7.6"
  }
 },
 "nbformat": 4,
 "nbformat_minor": 5
}
