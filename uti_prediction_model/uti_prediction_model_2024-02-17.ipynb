{
 "cells": [
  {
   "cell_type": "markdown",
   "id": "80a96487362648ea",
   "metadata": {
    "collapsed": false
   },
   "source": [
    "#### UTI Diagnosis Prediction Model"
   ]
  },
  {
   "cell_type": "code",
   "execution_count": null,
   "id": "initial_id",
   "metadata": {
    "ExecuteTime": {
     "end_time": "2024-02-18T02:25:55.154246Z",
     "start_time": "2024-02-18T02:25:55.151022Z"
    },
    "collapsed": true
   },
   "outputs": [],
   "source": [
    "import warnings\n",
    "warnings.filterwarnings('ignore')\n",
    "\n",
    "import pandas as pd"
   ]
  },
  {
   "cell_type": "markdown",
   "id": "c9ecf100",
   "metadata": {},
   "source": []
  },
  {
   "cell_type": "code",
   "execution_count": null,
   "id": "670b8292fbdca204",
   "metadata": {
    "ExecuteTime": {
     "end_time": "2024-02-18T02:26:35.028234Z",
     "start_time": "2024-02-18T02:26:35.021916Z"
    },
    "collapsed": false
   },
   "outputs": [],
   "source": [
    "data = pd.read_csv('/Users/cameronpresley/DS_Portfolio/bio_informatics_ml_models/uti_prediction_model/urinalysis_tests.csv')"
   ]
  },
  {
   "cell_type": "code",
   "execution_count": null,
   "id": "758f75a61846f6fd",
   "metadata": {
    "ExecuteTime": {
     "end_time": "2024-02-18T02:29:25.200403Z",
     "start_time": "2024-02-18T02:29:25.195407Z"
    },
    "collapsed": false
   },
   "outputs": [],
   "source": [
    "df = data.copy()"
   ]
  },
  {
   "cell_type": "code",
   "execution_count": null,
   "id": "4376fa1fec1e6bd6",
   "metadata": {
    "ExecuteTime": {
     "end_time": "2024-02-18T02:29:31.482661Z",
     "start_time": "2024-02-18T02:29:31.478824Z"
    },
    "collapsed": false
   },
   "outputs": [],
   "source": [
    "df.info()"
   ]
  },
  {
   "cell_type": "code",
   "execution_count": null,
   "id": "e166c7262d2afb36",
   "metadata": {
    "collapsed": false
   },
   "outputs": [],
   "source": []
  }
 ],
 "metadata": {
  "kernelspec": {
   "display_name": "Python 3",
   "language": "python",
   "name": "python3"
  },
  "language_info": {
   "codemirror_mode": {
    "name": "ipython",
    "version": 3
   },
   "file_extension": ".py",
   "mimetype": "text/x-python",
   "name": "python",
   "nbconvert_exporter": "python",
   "pygments_lexer": "ipython3",
   "version": "3.11.0"
  }
 },
 "nbformat": 5,
 "nbformat_minor": 5
}
