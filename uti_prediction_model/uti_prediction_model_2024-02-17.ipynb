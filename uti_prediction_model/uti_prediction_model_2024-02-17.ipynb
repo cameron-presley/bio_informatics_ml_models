{
 "cells": [
  {
   "cell_type": "markdown",
   "id": "80a96487362648ea",
   "metadata": {
    "collapsed": false
   },
   "source": [
    "#### **UTI Diagnosis Prediction Model**\n",
    "\n",
    "Cameron Presley\n",
    "cameron@cameron-presley.com\n",
    "\n",
    "**Overview**\n",
    "\n",
    "The following model explores different ML modeling approaches to predict the presence of a Urinary Tract Infection (UTI) from a group of patients urinalysis results. Factors gathered include patient age and gender, urine characteristcs such as color, transparency, pH, specific gravity, as well as the concentration of glucose in the urine sample.  Orther features include White Blood Cell (WBC) and Red Blood Cell (RBC) counts, epithelial cells, mucuous threads, amorphouse urates, as well as absence/presence of bacteria.\n",
    "\n",
    "**Content**\n",
    "\n",
    "1. Import libraries and other important formatting as appropriate\n",
    "2. Exploratory Data Analysis (EDA) and observations - Univariate, Bivariate, Multivariate Analysis\n",
    "2. Data cleaning and pre-processing (as required)\n",
    "3. Model building & Tuning\n",
    "4. Model performance & evaluation\n",
    "5. Observations and insights\n",
    "\n"
   ]
  },
  {
   "cell_type": "markdown",
   "id": "72847d11",
   "metadata": {},
   "source": [
    "**Data Source**\n",
    "\n",
    "This dataset was collected from a local clinic in Northern Mindanao, Philippines, and is from April of 2020 to January of 2023 for the fulfilment of the researchers capstone entitled: Optimizing UTI Diagnosis with Machine Learning and Artificial Neural Network for Reducing Misdiagnoses by Agdeppa et al. (2023). Research paper can be aquired from: kristianrogeragdeppa@gmail.com\n",
    "\n",
    "https://www.kaggle.com/datasets/avarice02/urinalysis-test-results"
   ]
  },
  {
   "cell_type": "markdown",
   "id": "e7a8f336",
   "metadata": {},
   "source": [
    "### 1. Import libraries and format settings"
   ]
  },
  {
   "cell_type": "code",
   "execution_count": 6,
   "id": "initial_id",
   "metadata": {
    "ExecuteTime": {
     "end_time": "2024-02-18T02:25:55.154246Z",
     "start_time": "2024-02-18T02:25:55.151022Z"
    },
    "collapsed": true
   },
   "outputs": [],
   "source": [
    "# avoid warnings\n",
    "import warnings\n",
    "warnings.filterwarnings('ignore')\n",
    "\n",
    "#import libraries for working with data :  arrays, linear algebra, plotting, etc.\n",
    "import numpy as np\n",
    "import matplotlib.pyplot as plt \n",
    "import pandas as pd \n",
    "import seaborn as sns   # for plotting and visualizing data\n",
    "\n",
    "# import libraries for machine learning\n",
    "from sklearn.model_selection import train_test_split\n",
    "from sklearn.preprocessing import StandardScaler\n",
    "from sklearn.linear_model import LogisticRegression\n",
    "from sklearn.metrics import confusion_matrix, accuracy_score, classification_report\n",
    "from sklearn.metrics import roc_curve, roc_auc_score\n",
    "from sklearn.model_selection import cross_val_score\n",
    "from sklearn.model_selection import cross_val_score\n",
    "from sklearn.model_selection import cross_val_predict\n",
    "from sklearn.metrics import precision_score, recall_score, f1_score\n",
    "from sklearn.metrics import precision_recall_curve\n",
    "\n",
    "\n",
    "# import libraries for deep learning\n",
    "import tensorflow as tf\n",
    "from tensorflow import keras\n",
    "from tensorflow.keras import layers\n",
    "from tensorflow.keras import Sequential\n",
    "from tensorflow.keras.layers import Dense\n",
    "from tensorflow.keras.layers import Dropout\n",
    "from tensorflow.keras.layers import BatchNormalization\n",
    "from tensorflow.keras.optimizers import Adam\n",
    "from tensorflow.keras.callbacks import EarlyStopping\n",
    "from tensorflow.keras.callbacks import ModelCheckpoint\n",
    "from tensorflow.keras.models import load_model\n",
    "from tensorflow.keras import regularizers\n",
    "from tensorflow.keras import initializers\n",
    "from tensorflow.keras import activations\n",
    "from tensorflow.keras import optimizers\n",
    "from tensorflow.keras import losses\n",
    "from tensorflow.keras import metrics\n",
    "\n",
    "# import libraries for evaluating the model\n",
    "from sklearn.model_selection import cross_val_score\n",
    "from sklearn.model_selection import cross_val_predict\n",
    "from sklearn.metrics import precision_score, recall_score, f1_score\n",
    "from sklearn.metrics import precision_recall_curve\n",
    "from sklearn.metrics import roc_curve, roc_auc_score\n",
    "from sklearn.metrics import confusion_matrix\n",
    "from sklearn.metrics import accuracy_score\n",
    "from sklearn.metrics import classification_report\n",
    "from sklearn.metrics import mean_squared_error\n",
    "from sklearn.metrics import mean_absolute_error\n",
    "from sklearn.metrics import r2_score\n",
    "from sklearn.metrics import mean_squared_log_error\n",
    "from sklearn.metrics import explained_variance_score\n",
    "from sklearn.metrics import max_error\n",
    "from sklearn.metrics import mean_poisson_deviance\n",
    "from sklearn.metrics import mean_gamma_deviance\n",
    "from sklearn.metrics import mean_tweedie_deviance\n",
    "\n"
   ]
  },
  {
   "cell_type": "code",
   "execution_count": 9,
   "id": "670b8292fbdca204",
   "metadata": {
    "ExecuteTime": {
     "end_time": "2024-02-18T02:26:35.028234Z",
     "start_time": "2024-02-18T02:26:35.021916Z"
    },
    "collapsed": false
   },
   "outputs": [
    {
     "name": "stdout",
     "output_type": "stream",
     "text": [
      "<class 'pandas.core.frame.DataFrame'>\n",
      "RangeIndex: 1436 entries, 0 to 1435\n",
      "Data columns (total 16 columns):\n",
      " #   Column            Non-Null Count  Dtype  \n",
      "---  ------            --------------  -----  \n",
      " 0   Unnamed: 0        1436 non-null   int64  \n",
      " 1   Age               1436 non-null   float64\n",
      " 2   Gender            1436 non-null   object \n",
      " 3   Color             1435 non-null   object \n",
      " 4   Transparency      1436 non-null   object \n",
      " 5   Glucose           1436 non-null   object \n",
      " 6   Protein           1436 non-null   object \n",
      " 7   pH                1436 non-null   float64\n",
      " 8   Specific Gravity  1436 non-null   float64\n",
      " 9   WBC               1436 non-null   object \n",
      " 10  RBC               1436 non-null   object \n",
      " 11  Epithelial Cells  1436 non-null   object \n",
      " 12  Mucous Threads    1436 non-null   object \n",
      " 13  Amorphous Urates  1436 non-null   object \n",
      " 14  Bacteria          1436 non-null   object \n",
      " 15  Diagnosis         1436 non-null   object \n",
      "dtypes: float64(3), int64(1), object(12)\n",
      "memory usage: 179.6+ KB\n"
     ]
    }
   ],
   "source": [
    "data = pd.read_csv('/Users/cameronpresley/DS_Portfolio/bio_informatics_ml_models/uti_prediction_model/urinalysis_tests.csv')\n",
    "df = data.copy()\n",
    "df.info()"
   ]
  },
  {
   "cell_type": "code",
   "execution_count": null,
   "id": "e166c7262d2afb36",
   "metadata": {
    "collapsed": false
   },
   "outputs": [],
   "source": []
  }
 ],
 "metadata": {
  "kernelspec": {
   "display_name": "Python 3",
   "language": "python",
   "name": "python3"
  },
  "language_info": {
   "codemirror_mode": {
    "name": "ipython",
    "version": 3
   },
   "file_extension": ".py",
   "mimetype": "text/x-python",
   "name": "python",
   "nbconvert_exporter": "python",
   "pygments_lexer": "ipython3",
   "version": "3.11.8"
  }
 },
 "nbformat": 4,
 "nbformat_minor": 5
}
